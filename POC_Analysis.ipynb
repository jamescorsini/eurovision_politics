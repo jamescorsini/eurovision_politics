{
 "cells": [
  {
   "cell_type": "markdown",
   "metadata": {},
   "source": [
    "# POC Analysis"
   ]
  },
  {
   "cell_type": "markdown",
   "metadata": {},
   "source": [
    "This analysis is to determine if the pump status algorithm change on v107B has actually fixed any of the wells"
   ]
  },
  {
   "cell_type": "code",
   "execution_count": 1,
   "metadata": {
    "collapsed": false
   },
   "outputs": [
    {
     "name": "stdout",
     "output_type": "stream",
     "text": [
      "Populating the interactive namespace from numpy and matplotlib\n"
     ]
    }
   ],
   "source": [
    "import pandas as pd\n",
    "import numpy as np\n",
    "import datetime as dt\n",
    "import scipy.stats as stats\n",
    "\n",
    "import matplotlib.pyplot as plt\n",
    "plt.style.use('ggplot')\n",
    "% pylab inline"
   ]
  },
  {
   "cell_type": "markdown",
   "metadata": {},
   "source": [
    "### Load Data"
   ]
  },
  {
   "cell_type": "code",
   "execution_count": 2,
   "metadata": {
    "collapsed": false
   },
   "outputs": [],
   "source": [
    "runtime_diff_raw = pd.read_excel('C:/Users/212340292/Desktop/POC_Runtime_Analysis.xlsx', sheetname='Runtime Difference')\n",
    "runtime_diff_raw.index = runtime_diff_raw.Date\n",
    "del runtime_diff_raw['Date']"
   ]
  },
  {
   "cell_type": "code",
   "execution_count": 3,
   "metadata": {
    "collapsed": false
   },
   "outputs": [
    {
     "data": {
      "text/html": [
       "<div>\n",
       "<table border=\"1\" class=\"dataframe\">\n",
       "  <thead>\n",
       "    <tr style=\"text-align: right;\">\n",
       "      <th></th>\n",
       "      <th>3-H1</th>\n",
       "      <th>C-85</th>\n",
       "      <th>3-8</th>\n",
       "      <th>H5-6E</th>\n",
       "      <th>5-H1</th>\n",
       "      <th>6-I</th>\n",
       "      <th>1-NR</th>\n",
       "      <th>2-M</th>\n",
       "      <th>6-G2</th>\n",
       "      <th>1-D</th>\n",
       "      <th>1-G</th>\n",
       "      <th>5-J</th>\n",
       "      <th>HA-3JV</th>\n",
       "      <th>5-J1</th>\n",
       "      <th>4-H1</th>\n",
       "      <th>5-G</th>\n",
       "      <th>5-K</th>\n",
       "      <th>IHI-1H</th>\n",
       "      <th>H6-BJV</th>\n",
       "    </tr>\n",
       "    <tr>\n",
       "      <th>Date</th>\n",
       "      <th></th>\n",
       "      <th></th>\n",
       "      <th></th>\n",
       "      <th></th>\n",
       "      <th></th>\n",
       "      <th></th>\n",
       "      <th></th>\n",
       "      <th></th>\n",
       "      <th></th>\n",
       "      <th></th>\n",
       "      <th></th>\n",
       "      <th></th>\n",
       "      <th></th>\n",
       "      <th></th>\n",
       "      <th></th>\n",
       "      <th></th>\n",
       "      <th></th>\n",
       "      <th></th>\n",
       "      <th></th>\n",
       "    </tr>\n",
       "  </thead>\n",
       "  <tbody>\n",
       "    <tr>\n",
       "      <th>2017-03-08</th>\n",
       "      <td>NaN</td>\n",
       "      <td>NaN</td>\n",
       "      <td>NaN</td>\n",
       "      <td>NaN</td>\n",
       "      <td>NaN</td>\n",
       "      <td>NaN</td>\n",
       "      <td>NaN</td>\n",
       "      <td>NaN</td>\n",
       "      <td>NaN</td>\n",
       "      <td>NaN</td>\n",
       "      <td>NaN</td>\n",
       "      <td>NaN</td>\n",
       "      <td>NaN</td>\n",
       "      <td>NaN</td>\n",
       "      <td>NaN</td>\n",
       "      <td>NaN</td>\n",
       "      <td>NaN</td>\n",
       "      <td>NaN</td>\n",
       "      <td>NaN</td>\n",
       "    </tr>\n",
       "    <tr>\n",
       "      <th>2017-03-07</th>\n",
       "      <td>NaN</td>\n",
       "      <td>NaN</td>\n",
       "      <td>NaN</td>\n",
       "      <td>NaN</td>\n",
       "      <td>NaN</td>\n",
       "      <td>NaN</td>\n",
       "      <td>NaN</td>\n",
       "      <td>NaN</td>\n",
       "      <td>NaN</td>\n",
       "      <td>NaN</td>\n",
       "      <td>NaN</td>\n",
       "      <td>NaN</td>\n",
       "      <td>NaN</td>\n",
       "      <td>NaN</td>\n",
       "      <td>NaN</td>\n",
       "      <td>NaN</td>\n",
       "      <td>NaN</td>\n",
       "      <td>NaN</td>\n",
       "      <td>NaN</td>\n",
       "    </tr>\n",
       "    <tr>\n",
       "      <th>2017-03-06</th>\n",
       "      <td>-0.059583</td>\n",
       "      <td>NaN</td>\n",
       "      <td>0.005892</td>\n",
       "      <td>-0.428333</td>\n",
       "      <td>NaN</td>\n",
       "      <td>-0.273846</td>\n",
       "      <td>0</td>\n",
       "      <td>0.022979</td>\n",
       "      <td>-0.160088</td>\n",
       "      <td>0.101034</td>\n",
       "      <td>-0.176546</td>\n",
       "      <td>0.295556</td>\n",
       "      <td>-0.075833</td>\n",
       "      <td>-0.050000</td>\n",
       "      <td>NaN</td>\n",
       "      <td>NaN</td>\n",
       "      <td>NaN</td>\n",
       "      <td>0</td>\n",
       "      <td>-0.266667</td>\n",
       "    </tr>\n",
       "    <tr>\n",
       "      <th>2017-03-05</th>\n",
       "      <td>-0.080000</td>\n",
       "      <td>NaN</td>\n",
       "      <td>-0.000417</td>\n",
       "      <td>-0.469167</td>\n",
       "      <td>NaN</td>\n",
       "      <td>-0.238462</td>\n",
       "      <td>0</td>\n",
       "      <td>0.012766</td>\n",
       "      <td>-0.126667</td>\n",
       "      <td>0.096032</td>\n",
       "      <td>-0.157917</td>\n",
       "      <td>0.304444</td>\n",
       "      <td>-0.098333</td>\n",
       "      <td>-0.057917</td>\n",
       "      <td>NaN</td>\n",
       "      <td>NaN</td>\n",
       "      <td>NaN</td>\n",
       "      <td>0</td>\n",
       "      <td>-0.202500</td>\n",
       "    </tr>\n",
       "    <tr>\n",
       "      <th>2017-03-04</th>\n",
       "      <td>-0.059167</td>\n",
       "      <td>NaN</td>\n",
       "      <td>0.005892</td>\n",
       "      <td>-0.315417</td>\n",
       "      <td>NaN</td>\n",
       "      <td>-0.277259</td>\n",
       "      <td>0</td>\n",
       "      <td>0.025152</td>\n",
       "      <td>-0.145000</td>\n",
       "      <td>0.124111</td>\n",
       "      <td>-0.173333</td>\n",
       "      <td>0.316372</td>\n",
       "      <td>NaN</td>\n",
       "      <td>-0.041250</td>\n",
       "      <td>NaN</td>\n",
       "      <td>NaN</td>\n",
       "      <td>NaN</td>\n",
       "      <td>0</td>\n",
       "      <td>-0.254583</td>\n",
       "    </tr>\n",
       "  </tbody>\n",
       "</table>\n",
       "</div>"
      ],
      "text/plain": [
       "                3-H1  C-85       3-8     H5-6E  5-H1       6-I  1-NR  \\\n",
       "Date                                                                   \n",
       "2017-03-08       NaN   NaN       NaN       NaN   NaN       NaN   NaN   \n",
       "2017-03-07       NaN   NaN       NaN       NaN   NaN       NaN   NaN   \n",
       "2017-03-06 -0.059583   NaN  0.005892 -0.428333   NaN -0.273846     0   \n",
       "2017-03-05 -0.080000   NaN -0.000417 -0.469167   NaN -0.238462     0   \n",
       "2017-03-04 -0.059167   NaN  0.005892 -0.315417   NaN -0.277259     0   \n",
       "\n",
       "                 2-M      6-G2       1-D       1-G       5-J    HA-3JV  \\\n",
       "Date                                                                     \n",
       "2017-03-08       NaN       NaN       NaN       NaN       NaN       NaN   \n",
       "2017-03-07       NaN       NaN       NaN       NaN       NaN       NaN   \n",
       "2017-03-06  0.022979 -0.160088  0.101034 -0.176546  0.295556 -0.075833   \n",
       "2017-03-05  0.012766 -0.126667  0.096032 -0.157917  0.304444 -0.098333   \n",
       "2017-03-04  0.025152 -0.145000  0.124111 -0.173333  0.316372       NaN   \n",
       "\n",
       "                5-J1  4-H1  5-G  5-K  IHI-1H    H6-BJV  \n",
       "Date                                                    \n",
       "2017-03-08       NaN   NaN  NaN  NaN     NaN       NaN  \n",
       "2017-03-07       NaN   NaN  NaN  NaN     NaN       NaN  \n",
       "2017-03-06 -0.050000   NaN  NaN  NaN       0 -0.266667  \n",
       "2017-03-05 -0.057917   NaN  NaN  NaN       0 -0.202500  \n",
       "2017-03-04 -0.041250   NaN  NaN  NaN       0 -0.254583  "
      ]
     },
     "execution_count": 3,
     "metadata": {},
     "output_type": "execute_result"
    }
   ],
   "source": [
    "runtime_diff_raw.head()"
   ]
  },
  {
   "cell_type": "markdown",
   "metadata": {},
   "source": [
    "### Distributions"
   ]
  },
  {
   "cell_type": "markdown",
   "metadata": {},
   "source": [
    "This is getting the distributions of time differences before and after the firmware upgrade, which happened from 2/20 to 2/22"
   ]
  },
  {
   "cell_type": "code",
   "execution_count": 4,
   "metadata": {
    "collapsed": false
   },
   "outputs": [],
   "source": [
    "#splits datasets into before and after fw upgrade\n",
    "upgrade_after = runtime_diff_raw[:'2017-2-22']\n",
    "upgrade_before = runtime_diff_raw['2017-2-19':]"
   ]
  },
  {
   "cell_type": "code",
   "execution_count": 5,
   "metadata": {
    "collapsed": false
   },
   "outputs": [
    {
     "name": "stdout",
     "output_type": "stream",
     "text": [
      "        Before Mean  After Mean\n",
      "3-H1      -6.208333   -9.479167\n",
      "C-85       2.864647         NaN\n",
      "3-8       -2.835648   -0.041667\n",
      "H5-6E     -9.041667  -50.145833\n",
      "5-H1     -37.870745         NaN\n",
      "6-I        0.156971  -21.990118\n",
      "1-NR      -0.125000   -0.041667\n",
      "2-M        1.841106    1.593389\n",
      "6-G2     -23.547254  -12.333333\n",
      "1-D       10.724317    9.853298\n",
      "1-G      -15.796392  -17.493986\n",
      "5-J       26.908023   30.454010\n",
      "HA-3JV          NaN  -10.729167\n",
      "5-J1     -38.000000   -6.104167\n",
      "4-H1     -39.772727  -22.368421\n",
      "5-G        2.248934    2.898943\n",
      "5-K       -6.739440   -6.990291\n",
      "IHI-1H    -0.041667    0.000000\n",
      "H6-BJV   -14.375000  -16.187500\n"
     ]
    }
   ],
   "source": [
    "out = pd.DataFrame(upgrade_before.median()*100,columns=['Before Mean'])\n",
    "out['After Mean'] = upgrade_after.median()*100\n",
    "print out"
   ]
  },
  {
   "cell_type": "markdown",
   "metadata": {},
   "source": [
    "### Student t dependent test"
   ]
  },
  {
   "cell_type": "markdown",
   "metadata": {},
   "source": [
    "P value less than 0.05 and the means are significantly different (there was a statistically significant change from the fw). Otherwise they're pretty much the same and we can't tell a difference"
   ]
  },
  {
   "cell_type": "code",
   "execution_count": 6,
   "metadata": {
    "collapsed": false
   },
   "outputs": [
    {
     "name": "stdout",
     "output_type": "stream",
     "text": [
      "3-H1 pval: 0.90 tstat: -0.13\n",
      "C-85 is not evaluated\n",
      "3-8 pval: 0.35 tstat: -1.00\n",
      "H5-6E pval: 0.00 tstat: 5.13\n",
      "5-H1 is not evaluated\n",
      "6-I pval: 0.00 tstat: 7.47\n",
      "1-NR pval: 0.98 tstat: -0.03\n",
      "2-M pval: 0.28 tstat: 1.17\n",
      "6-G2 pval: 0.01 tstat: -3.64\n",
      "1-D pval: 0.95 tstat: 0.06\n",
      "1-G pval: 0.13 tstat: 1.72\n",
      "5-J pval: 0.00 tstat: -7.48\n",
      "HA-3JV is not evaluated\n",
      "5-J1 pval: 0.00 tstat: -5.58\n",
      "4-H1 pval: 0.15 tstat: -1.78\n",
      "5-G pval: 0.49 tstat: 0.74\n",
      "5-K pval: 0.32 tstat: -1.32\n",
      "IHI-1H pval: 0.33 tstat: -1.04\n",
      "H6-BJV pval: 0.72 tstat: 0.38\n"
     ]
    }
   ],
   "source": [
    "# Add column to out df for later use\n",
    "out['pvalue'] = [np.nan for i in range(len(upgrade_after.columns))]\n",
    "\n",
    "# loop through all wells and calculate pvalue from student t test\n",
    "for idx, col in enumerate(upgrade_after.columns):\n",
    "\n",
    "    # Fix array length\n",
    "    a = upgrade_before.ix[:len(upgrade_after),idx].dropna()\n",
    "    b = upgrade_after.ix[:,idx].dropna()\n",
    "\n",
    "    if len(a) > len(b):\n",
    "        a = a.ix[:len(b)]\n",
    "    elif len(b) > len(a):\n",
    "        b = b.ix[:len(a)]\n",
    "\n",
    "    # If no useable data points avaliable for the test\n",
    "    if len(a) == 0:\n",
    "        print col + ' is not evaluated'\n",
    "        continue\n",
    "    else:\n",
    "        stat, pval = stats.ttest_rel(a, b)\n",
    "        \n",
    "        out['pvalue'][col] = pval\n",
    "        \n",
    "        #if pval < 0.05:\n",
    "        print col + ' pval: %0.2f tstat: %2.2f' % (pval, stat)"
   ]
  },
  {
   "cell_type": "markdown",
   "metadata": {},
   "source": [
    "### Density Estimate"
   ]
  },
  {
   "cell_type": "code",
   "execution_count": 7,
   "metadata": {
    "collapsed": false,
    "scrolled": false
   },
   "outputs": [
    {
     "data": {
      "image/png": "[encoded data removed]",
      "text/plain": [
       "<matplotlib.figure.Figure at 0xb72b4e0>"
      ]
     },
     "metadata": {},
     "output_type": "display_data"
    },
    {
     "data": {
      "image/png": "[encoded data removed]",
      "text/plain": [
       "<matplotlib.figure.Figure at 0xb6ec518>"
      ]
     },
     "metadata": {},
     "output_type": "display_data"
    },
    {
     "data": {
      "image/png": "[encoded data removed]",
      "text/plain": [
       "<matplotlib.figure.Figure at 0xb5546a0>"
      ]
     },
     "metadata": {},
     "output_type": "display_data"
    },
    {
     "data": {
      "image/png": "[encoded data removed]",
      "text/plain": [
       "<matplotlib.figure.Figure at 0xb72b438>"
      ]
     },
     "metadata": {},
     "output_type": "display_data"
    },
    {
     "data": {
      "image/png": "[encoded data removed]",
      "text/plain": [
       "<matplotlib.figure.Figure at 0xb858a90>"
      ]
     },
     "metadata": {},
     "output_type": "display_data"
    }
   ],
   "source": [
    "# Loop through and plot density estimate for wells with a pvalue less than 0.05\n",
    "for val, col in enumerate(upgrade_after.columns):\n",
    "\n",
    "    if out['pvalue'][col] < 0.05:\n",
    "    \n",
    "        plt.figure(val)\n",
    "\n",
    "        h = upgrade_after.ix[:,val]\n",
    "        h = h.sort_values()\n",
    "        fit = stats.norm.pdf(h, np.mean(h), np.std(h))  #this is a fitting indeed\n",
    "        plt.plot(h,fit, color='blue')\n",
    "        \n",
    "        upgrade_before.ix[:,val].hist()\n",
    "        upgrade_after.ix[:,val].hist()\n",
    "\n",
    "        h = upgrade_before.ix[:,val]\n",
    "        h = h.sort_values()\n",
    "        fit = stats.norm.pdf(h, np.mean(h), np.std(h))  #this is a fitting indeed\n",
    "\n",
    "        plt.plot(h,fit, color='red')\n",
    "        plt.title(col)\n",
    "        plt.xlabel(\"% Time Difference\")\n"
   ]
  },
  {
   "cell_type": "markdown",
   "metadata": {},
   "source": [
    "### Final significant pvalues"
   ]
  },
  {
   "cell_type": "code",
   "execution_count": 8,
   "metadata": {
    "collapsed": false
   },
   "outputs": [
    {
     "data": {
      "text/html": [
       "<div>\n",
       "<table border=\"1\" class=\"dataframe\">\n",
       "  <thead>\n",
       "    <tr style=\"text-align: right;\">\n",
       "      <th></th>\n",
       "      <th>Before Mean</th>\n",
       "      <th>After Mean</th>\n",
       "      <th>pvalue</th>\n",
       "    </tr>\n",
       "  </thead>\n",
       "  <tbody>\n",
       "    <tr>\n",
       "      <th>H5-6E</th>\n",
       "      <td>-9.041667</td>\n",
       "      <td>-50.145833</td>\n",
       "      <td>0.001349</td>\n",
       "    </tr>\n",
       "    <tr>\n",
       "      <th>6-I</th>\n",
       "      <td>0.156971</td>\n",
       "      <td>-21.990118</td>\n",
       "      <td>0.000140</td>\n",
       "    </tr>\n",
       "    <tr>\n",
       "      <th>6-G2</th>\n",
       "      <td>-23.547254</td>\n",
       "      <td>-12.333333</td>\n",
       "      <td>0.008341</td>\n",
       "    </tr>\n",
       "    <tr>\n",
       "      <th>5-J</th>\n",
       "      <td>26.908023</td>\n",
       "      <td>30.454010</td>\n",
       "      <td>0.000140</td>\n",
       "    </tr>\n",
       "    <tr>\n",
       "      <th>5-J1</th>\n",
       "      <td>-38.000000</td>\n",
       "      <td>-6.104167</td>\n",
       "      <td>0.000835</td>\n",
       "    </tr>\n",
       "  </tbody>\n",
       "</table>\n",
       "</div>"
      ],
      "text/plain": [
       "       Before Mean  After Mean    pvalue\n",
       "H5-6E    -9.041667  -50.145833  0.001349\n",
       "6-I       0.156971  -21.990118  0.000140\n",
       "6-G2    -23.547254  -12.333333  0.008341\n",
       "5-J      26.908023   30.454010  0.000140\n",
       "5-J1    -38.000000   -6.104167  0.000835"
      ]
     },
     "execution_count": 8,
     "metadata": {},
     "output_type": "execute_result"
    }
   ],
   "source": [
    "out[out['pvalue']<0.05]"
   ]
  },
  {
   "cell_type": "markdown",
   "metadata": {},
   "source": [
    "### Conclusion"
   ]
  },
  {
   "cell_type": "markdown",
   "metadata": {},
   "source": [
    "There are four wells that have a significant difference in means according the student t test.  Which would mean that the firmware change had a significant impact on the pump status algorithm.  **_However_**, looking at the mean values of the significant tests show no discernable difference (positive or negative) in the means.  Thus, it can be concluded that this firmware change had no impact, either positive or negative."
   ]
  }
 ],
 "metadata": {
  "kernelspec": {
   "display_name": "Python 2",
   "language": "python",
   "name": "python2"
  },
  "language_info": {
   "codemirror_mode": {
    "name": "ipython",
    "version": 2
   },
   "file_extension": ".py",
   "mimetype": "text/x-python",
   "name": "python",
   "nbconvert_exporter": "python",
   "pygments_lexer": "ipython2",
   "version": "2.7.12"
  }
 },
 "nbformat": 4,
 "nbformat_minor": 0
}
