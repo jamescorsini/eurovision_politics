{
 "cells": [
  {
   "cell_type": "markdown",
   "metadata": {},
   "source": [
    "## Data Robot Eurovision Analysis"
   ]
  },
  {
   "cell_type": "markdown",
   "metadata": {},
   "source": [
    "*My Question* Is there a political bias with Eurovision voting?\n",
    "\n",
    "*What is it?* Eurovision is an international (mostly European) song contest that has been happening since 1956 (more information: https://en.wikipedia.org/wiki/Eurovision_Song_Contest)\n",
    "\n",
    "*How will this be analyzed?* This analysis will go through the open dataset https://eurovision.tv/history/full-split-results which provides all of the points given by country and how they were awarded.  I will first clean the data and then organize it into two sets, one of which will be how many points a country gave to it's neighboring countries and one set with all the other points.\n"
   ]
  },
  {
   "cell_type": "code",
   "execution_count": 1,
   "metadata": {
    "collapsed": false
   },
   "outputs": [
    {
     "name": "stdout",
     "output_type": "stream",
     "text": [
      "Populating the interactive namespace from numpy and matplotlib\n"
     ]
    }
   ],
   "source": [
    "# Importing \n",
    "import pandas as pd\n",
    "import numpy as np\n",
    "import scipy.stats as stats\n",
    "\n",
    "# For my stylish plots\n",
    "import matplotlib.pyplot as plt\n",
    "plt.style.use('ggplot')\n",
    "% pylab inline"
   ]
  },
  {
   "cell_type": "code",
   "execution_count": 2,
   "metadata": {
    "collapsed": false
   },
   "outputs": [
    {
     "data": {
      "text/html": [
       "<div>\n",
       "<table border=\"1\" class=\"dataframe\">\n",
       "  <thead>\n",
       "    <tr style=\"text-align: right;\">\n",
       "      <th></th>\n",
       "      <th>Rank</th>\n",
       "      <th>DDI</th>\n",
       "      <th>Country</th>\n",
       "      <th>Total</th>\n",
       "      <th>Albania</th>\n",
       "      <th>Austria</th>\n",
       "      <th>Belarus</th>\n",
       "      <th>Belgium</th>\n",
       "      <th>Croatia</th>\n",
       "      <th>Cyprus</th>\n",
       "      <th>...</th>\n",
       "      <th>Hungary</th>\n",
       "      <th>Moldova</th>\n",
       "      <th>Armenia</th>\n",
       "      <th>CzechRepublic</th>\n",
       "      <th>Georgia</th>\n",
       "      <th>Montenegro</th>\n",
       "      <th>Azerbaijan</th>\n",
       "      <th>SanMarino</th>\n",
       "      <th>Italy</th>\n",
       "      <th>Australia</th>\n",
       "    </tr>\n",
       "  </thead>\n",
       "  <tbody>\n",
       "    <tr>\n",
       "      <th>0</th>\n",
       "      <td>1</td>\n",
       "      <td>11</td>\n",
       "      <td>Portugal</td>\n",
       "      <td>758</td>\n",
       "      <td>14</td>\n",
       "      <td>20</td>\n",
       "      <td>17</td>\n",
       "      <td>20</td>\n",
       "      <td>17</td>\n",
       "      <td>15</td>\n",
       "      <td>...</td>\n",
       "      <td>19</td>\n",
       "      <td>13</td>\n",
       "      <td>22</td>\n",
       "      <td>20</td>\n",
       "      <td>20</td>\n",
       "      <td>8</td>\n",
       "      <td>16</td>\n",
       "      <td>19</td>\n",
       "      <td>10</td>\n",
       "      <td>14</td>\n",
       "    </tr>\n",
       "    <tr>\n",
       "      <th>1</th>\n",
       "      <td>2</td>\n",
       "      <td>25</td>\n",
       "      <td>Bulgaria</td>\n",
       "      <td>615</td>\n",
       "      <td>20</td>\n",
       "      <td>17</td>\n",
       "      <td>24</td>\n",
       "      <td>18</td>\n",
       "      <td>18</td>\n",
       "      <td>17</td>\n",
       "      <td>...</td>\n",
       "      <td>22</td>\n",
       "      <td>18</td>\n",
       "      <td>7</td>\n",
       "      <td>14</td>\n",
       "      <td>13</td>\n",
       "      <td>8</td>\n",
       "      <td>14</td>\n",
       "      <td>14</td>\n",
       "      <td>10</td>\n",
       "      <td>13</td>\n",
       "    </tr>\n",
       "    <tr>\n",
       "      <th>2</th>\n",
       "      <td>3</td>\n",
       "      <td>7</td>\n",
       "      <td>Moldova</td>\n",
       "      <td>374</td>\n",
       "      <td>0</td>\n",
       "      <td>3</td>\n",
       "      <td>10</td>\n",
       "      <td>7</td>\n",
       "      <td>4</td>\n",
       "      <td>6</td>\n",
       "      <td>...</td>\n",
       "      <td>10</td>\n",
       "      <td>0</td>\n",
       "      <td>14</td>\n",
       "      <td>8</td>\n",
       "      <td>0</td>\n",
       "      <td>3</td>\n",
       "      <td>20</td>\n",
       "      <td>8</td>\n",
       "      <td>20</td>\n",
       "      <td>22</td>\n",
       "    </tr>\n",
       "    <tr>\n",
       "      <th>3</th>\n",
       "      <td>4</td>\n",
       "      <td>23</td>\n",
       "      <td>Belgium</td>\n",
       "      <td>363</td>\n",
       "      <td>5</td>\n",
       "      <td>10</td>\n",
       "      <td>6</td>\n",
       "      <td>0</td>\n",
       "      <td>5</td>\n",
       "      <td>5</td>\n",
       "      <td>...</td>\n",
       "      <td>8</td>\n",
       "      <td>2</td>\n",
       "      <td>5</td>\n",
       "      <td>4</td>\n",
       "      <td>0</td>\n",
       "      <td>10</td>\n",
       "      <td>4</td>\n",
       "      <td>13</td>\n",
       "      <td>9</td>\n",
       "      <td>4</td>\n",
       "    </tr>\n",
       "    <tr>\n",
       "      <th>4</th>\n",
       "      <td>5</td>\n",
       "      <td>24</td>\n",
       "      <td>Sweden</td>\n",
       "      <td>344</td>\n",
       "      <td>2</td>\n",
       "      <td>5</td>\n",
       "      <td>11</td>\n",
       "      <td>14</td>\n",
       "      <td>6</td>\n",
       "      <td>11</td>\n",
       "      <td>...</td>\n",
       "      <td>4</td>\n",
       "      <td>11</td>\n",
       "      <td>9</td>\n",
       "      <td>7</td>\n",
       "      <td>9</td>\n",
       "      <td>7</td>\n",
       "      <td>3</td>\n",
       "      <td>2</td>\n",
       "      <td>10</td>\n",
       "      <td>12</td>\n",
       "    </tr>\n",
       "  </tbody>\n",
       "</table>\n",
       "<p>5 rows × 46 columns</p>\n",
       "</div>"
      ],
      "text/plain": [
       "   Rank  DDI   Country  Total  Albania  Austria  Belarus  Belgium  Croatia  \\\n",
       "0     1   11  Portugal    758       14       20       17       20       17   \n",
       "1     2   25  Bulgaria    615       20       17       24       18       18   \n",
       "2     3    7   Moldova    374        0        3       10        7        4   \n",
       "3     4   23   Belgium    363        5       10        6        0        5   \n",
       "4     5   24    Sweden    344        2        5       11       14        6   \n",
       "\n",
       "   Cyprus    ...      Hungary  Moldova  Armenia  CzechRepublic  Georgia  \\\n",
       "0      15    ...           19       13       22             20       20   \n",
       "1      17    ...           22       18        7             14       13   \n",
       "2       6    ...           10        0       14              8        0   \n",
       "3       5    ...            8        2        5              4        0   \n",
       "4      11    ...            4       11        9              7        9   \n",
       "\n",
       "   Montenegro  Azerbaijan  SanMarino  Italy  Australia  \n",
       "0           8          16         19     10         14  \n",
       "1           8          14         14     10         13  \n",
       "2           3          20          8     20         22  \n",
       "3          10           4         13      9          4  \n",
       "4           7           3          2     10         12  \n",
       "\n",
       "[5 rows x 46 columns]"
      ]
     },
     "execution_count": 2,
     "metadata": {},
     "output_type": "execute_result"
    }
   ],
   "source": [
    "# Import data into df\n",
    "gf_2017 = pd.read_excel('ESC2017_GF_Results.xlsx',sheetname='FinalResults')\n",
    "# Verify data is there\n",
    "gf_2017.head()"
   ]
  },
  {
   "cell_type": "code",
   "execution_count": 3,
   "metadata": {
    "collapsed": false
   },
   "outputs": [],
   "source": [
    "# Dropping first couple cols (because who needs Rank, indentifier and total)\n",
    "# Also, renaming index to Countries because it's a lot easier and makes more sense this way\n",
    "points_df = gf_2017.copy()\n",
    "points_df.index = points_df['Country']\n",
    "del points_df['Rank']\n",
    "del points_df['DDI']\n",
    "del points_df['Country']\n",
    "del points_df['Total']"
   ]
  },
  {
   "cell_type": "code",
   "execution_count": 4,
   "metadata": {
    "collapsed": true
   },
   "outputs": [],
   "source": [
    "# Using simple measure for now to determine bias: there is political bias when countries vote for neighboring countries \n",
    "# more than others\n",
    "# TODO: key improvement here is to dig into the political relationaships and get a better 'neighbor' definition.\n",
    "# Currently this leaves out countries like Australia and Israel\n",
    "\n",
    "# Building dict of neighboring countries \n",
    "neighbors_dict = {\n",
    "    u'Portugal':['Spain'],\n",
    "    u'Bulgaria':['Romania','Greece','Macedonia','Serbia'], \n",
    "    u'Moldova':['Romania','Ukraine'], \n",
    "    u'Belgium':['Netherlands','France','Germany'], \n",
    "    u'Sweden':['Norway','Denmark','Finland'],\n",
    "    u'Italy':['Croatia','Austria','SanMarino','Switzerland','Slovenia','Malta'], \n",
    "    u'Romania':['Moldova','Bulgaria','Hungary','Ukraine','Serbia'], \n",
    "    u'Hungary':['Ukraine','Romania','Austria','Croatia'], \n",
    "    u'Australia':[], \n",
    "    u'Norway':['Sweden','Denmark','Finland'],\n",
    "    u'Netherlands':['Belgium','Germany'], \n",
    "    u'France':['Spain','Belgium','Switzerland'], \n",
    "    u'Croatia':['Hungary','Italy','Slovenia','Montenegro'], \n",
    "    u'Azerbaijan':['Armenia','Georgia'],\n",
    "    u'UnitedKingdom':[], \n",
    "    u'Austria':['Italy','Germany','Hungary','Slovenia','CzechRepublic'], \n",
    "    u'Belarus':['Ukraine','Poland','Latvia','Lithuania'], \n",
    "    u'Armenia':['Azerbaijan','Georgia'], \n",
    "    u'Greece':['Cyprus','Bulgaria','Macedonia','Albania'],\n",
    "    u'Denmark':['Sweeden','Norway','Finland'], \n",
    "    u'Cyprus':['Greece'], \n",
    "    u'Poland':['Germany','Ukraine','Belarus','Lithuania','CzechRepublic'], \n",
    "    u'Israel':[], \n",
    "    u'Ukraine':['Belarus','Moldova','Hungary','Poland'], \n",
    "    u'Germany':['Netherlands','Poland','Austria','Belgium','France','Switzerland','CzechRepublic'],\n",
    "    u'Spain':['Portugal','France']    \n",
    "}"
   ]
  },
  {
   "cell_type": "code",
   "execution_count": 5,
   "metadata": {
    "collapsed": false
   },
   "outputs": [],
   "source": [
    "# Creates neighbor_df which is a sparse binary df identifying neighbors (will be data mask moving forward)\n",
    "neighbor_df = pd.DataFrame(columns=points_df.columns, index=points_df.index)\n",
    "neighbor_df = neighbor_df.fillna(0)\n",
    "\n",
    "for country in neighbors_dict.keys():\n",
    "    for neighbor in neighbors_dict[country]:\n",
    "        neighbor_df[country][neighbor] = 1"
   ]
  },
  {
   "cell_type": "code",
   "execution_count": 6,
   "metadata": {
    "collapsed": false
   },
   "outputs": [
    {
     "data": {
      "text/html": [
       "<div>\n",
       "<table border=\"1\" class=\"dataframe\">\n",
       "  <thead>\n",
       "    <tr style=\"text-align: right;\">\n",
       "      <th></th>\n",
       "      <th>Neighbors Avg</th>\n",
       "      <th>Non Neighbors Avg</th>\n",
       "    </tr>\n",
       "  </thead>\n",
       "  <tbody>\n",
       "    <tr>\n",
       "      <th>Albania</th>\n",
       "      <td>NaN</td>\n",
       "      <td>4.461538</td>\n",
       "    </tr>\n",
       "    <tr>\n",
       "      <th>Austria</th>\n",
       "      <td>7.333333</td>\n",
       "      <td>4.086957</td>\n",
       "    </tr>\n",
       "    <tr>\n",
       "      <th>Belarus</th>\n",
       "      <td>1.500000</td>\n",
       "      <td>4.708333</td>\n",
       "    </tr>\n",
       "    <tr>\n",
       "      <th>Belgium</th>\n",
       "      <td>4.666667</td>\n",
       "      <td>4.434783</td>\n",
       "    </tr>\n",
       "    <tr>\n",
       "      <th>Croatia</th>\n",
       "      <td>15.500000</td>\n",
       "      <td>3.541667</td>\n",
       "    </tr>\n",
       "  </tbody>\n",
       "</table>\n",
       "</div>"
      ],
      "text/plain": [
       "         Neighbors Avg  Non Neighbors Avg\n",
       "Albania            NaN           4.461538\n",
       "Austria       7.333333           4.086957\n",
       "Belarus       1.500000           4.708333\n",
       "Belgium       4.666667           4.434783\n",
       "Croatia      15.500000           3.541667"
      ]
     },
     "execution_count": 6,
     "metadata": {},
     "output_type": "execute_result"
    }
   ],
   "source": [
    "# Creates compare_df wihch has average points given to neighboring countries and non neighboring countries by country\n",
    "# Note: lots of NaNs here because only the countries in the final round of scoring (24 of them) where used\n",
    "compare_df = pd.DataFrame(index=points_df.columns,columns=['Neighbors Avg','Non Neighbors Avg'])\n",
    "compare_df['Neighbors Avg'] = points_df[neighbor_df==1].mean()\n",
    "compare_df['Non Neighbors Avg'] = points_df[neighbor_df!=1].mean()\n",
    "\n",
    "compare_df.head()"
   ]
  },
  {
   "cell_type": "code",
   "execution_count": 12,
   "metadata": {
    "collapsed": true
   },
   "outputs": [],
   "source": [
    "# Export data\n",
    "compare_df.to_csv('comparison_df.csv')"
   ]
  },
  {
   "cell_type": "code",
   "execution_count": 7,
   "metadata": {
    "collapsed": false
   },
   "outputs": [
    {
     "data": {
      "text/html": [
       "<div>\n",
       "<table border=\"1\" class=\"dataframe\">\n",
       "  <thead>\n",
       "    <tr style=\"text-align: right;\">\n",
       "      <th></th>\n",
       "      <th>Neighbors Avg</th>\n",
       "      <th>Non Neighbors Avg</th>\n",
       "    </tr>\n",
       "  </thead>\n",
       "  <tbody>\n",
       "    <tr>\n",
       "      <th>Austria</th>\n",
       "      <td>7.333333</td>\n",
       "      <td>4.086957</td>\n",
       "    </tr>\n",
       "    <tr>\n",
       "      <th>Belarus</th>\n",
       "      <td>1.500000</td>\n",
       "      <td>4.708333</td>\n",
       "    </tr>\n",
       "    <tr>\n",
       "      <th>Belgium</th>\n",
       "      <td>4.666667</td>\n",
       "      <td>4.434783</td>\n",
       "    </tr>\n",
       "    <tr>\n",
       "      <th>Croatia</th>\n",
       "      <td>15.500000</td>\n",
       "      <td>3.541667</td>\n",
       "    </tr>\n",
       "    <tr>\n",
       "      <th>Cyprus</th>\n",
       "      <td>24.000000</td>\n",
       "      <td>3.680000</td>\n",
       "    </tr>\n",
       "    <tr>\n",
       "      <th>France</th>\n",
       "      <td>4.000000</td>\n",
       "      <td>4.500000</td>\n",
       "    </tr>\n",
       "    <tr>\n",
       "      <th>Germany</th>\n",
       "      <td>4.400000</td>\n",
       "      <td>4.476190</td>\n",
       "    </tr>\n",
       "    <tr>\n",
       "      <th>Greece</th>\n",
       "      <td>18.000000</td>\n",
       "      <td>3.333333</td>\n",
       "    </tr>\n",
       "    <tr>\n",
       "      <th>Netherlands</th>\n",
       "      <td>6.000000</td>\n",
       "      <td>4.333333</td>\n",
       "    </tr>\n",
       "    <tr>\n",
       "      <th>Norway</th>\n",
       "      <td>9.500000</td>\n",
       "      <td>4.041667</td>\n",
       "    </tr>\n",
       "    <tr>\n",
       "      <th>Poland</th>\n",
       "      <td>2.000000</td>\n",
       "      <td>4.782609</td>\n",
       "    </tr>\n",
       "    <tr>\n",
       "      <th>Portugal</th>\n",
       "      <td>5.000000</td>\n",
       "      <td>4.440000</td>\n",
       "    </tr>\n",
       "    <tr>\n",
       "      <th>Romania</th>\n",
       "      <td>12.000000</td>\n",
       "      <td>3.090909</td>\n",
       "    </tr>\n",
       "    <tr>\n",
       "      <th>Spain</th>\n",
       "      <td>13.500000</td>\n",
       "      <td>3.708333</td>\n",
       "    </tr>\n",
       "    <tr>\n",
       "      <th>Sweden</th>\n",
       "      <td>5.500000</td>\n",
       "      <td>4.375000</td>\n",
       "    </tr>\n",
       "    <tr>\n",
       "      <th>Ukraine</th>\n",
       "      <td>12.000000</td>\n",
       "      <td>3.090909</td>\n",
       "    </tr>\n",
       "    <tr>\n",
       "      <th>Bulgaria</th>\n",
       "      <td>11.000000</td>\n",
       "      <td>3.916667</td>\n",
       "    </tr>\n",
       "    <tr>\n",
       "      <th>Hungary</th>\n",
       "      <td>2.750000</td>\n",
       "      <td>4.772727</td>\n",
       "    </tr>\n",
       "    <tr>\n",
       "      <th>Moldova</th>\n",
       "      <td>12.000000</td>\n",
       "      <td>3.833333</td>\n",
       "    </tr>\n",
       "    <tr>\n",
       "      <th>Armenia</th>\n",
       "      <td>0.000000</td>\n",
       "      <td>4.640000</td>\n",
       "    </tr>\n",
       "    <tr>\n",
       "      <th>Azerbaijan</th>\n",
       "      <td>0.000000</td>\n",
       "      <td>4.640000</td>\n",
       "    </tr>\n",
       "    <tr>\n",
       "      <th>Italy</th>\n",
       "      <td>3.500000</td>\n",
       "      <td>4.541667</td>\n",
       "    </tr>\n",
       "  </tbody>\n",
       "</table>\n",
       "</div>"
      ],
      "text/plain": [
       "             Neighbors Avg  Non Neighbors Avg\n",
       "Austria           7.333333           4.086957\n",
       "Belarus           1.500000           4.708333\n",
       "Belgium           4.666667           4.434783\n",
       "Croatia          15.500000           3.541667\n",
       "Cyprus           24.000000           3.680000\n",
       "France            4.000000           4.500000\n",
       "Germany           4.400000           4.476190\n",
       "Greece           18.000000           3.333333\n",
       "Netherlands       6.000000           4.333333\n",
       "Norway            9.500000           4.041667\n",
       "Poland            2.000000           4.782609\n",
       "Portugal          5.000000           4.440000\n",
       "Romania          12.000000           3.090909\n",
       "Spain            13.500000           3.708333\n",
       "Sweden            5.500000           4.375000\n",
       "Ukraine          12.000000           3.090909\n",
       "Bulgaria         11.000000           3.916667\n",
       "Hungary           2.750000           4.772727\n",
       "Moldova          12.000000           3.833333\n",
       "Armenia           0.000000           4.640000\n",
       "Azerbaijan        0.000000           4.640000\n",
       "Italy             3.500000           4.541667"
      ]
     },
     "execution_count": 7,
     "metadata": {},
     "output_type": "execute_result"
    }
   ],
   "source": [
    "# A looks at our data\n",
    "compare_df.dropna()"
   ]
  },
  {
   "cell_type": "code",
   "execution_count": 8,
   "metadata": {
    "collapsed": false
   },
   "outputs": [
    {
     "data": {
      "text/html": [
       "<div>\n",
       "<table border=\"1\" class=\"dataframe\">\n",
       "  <thead>\n",
       "    <tr style=\"text-align: right;\">\n",
       "      <th></th>\n",
       "      <th>Neighbors Avg</th>\n",
       "      <th>Non Neighbors Avg</th>\n",
       "    </tr>\n",
       "  </thead>\n",
       "  <tbody>\n",
       "    <tr>\n",
       "      <th>count</th>\n",
       "      <td>22.000000</td>\n",
       "      <td>42.000000</td>\n",
       "    </tr>\n",
       "    <tr>\n",
       "      <th>mean</th>\n",
       "      <td>7.915909</td>\n",
       "      <td>4.290457</td>\n",
       "    </tr>\n",
       "    <tr>\n",
       "      <th>std</th>\n",
       "      <td>6.231344</td>\n",
       "      <td>0.418795</td>\n",
       "    </tr>\n",
       "    <tr>\n",
       "      <th>min</th>\n",
       "      <td>0.000000</td>\n",
       "      <td>3.090909</td>\n",
       "    </tr>\n",
       "    <tr>\n",
       "      <th>25%</th>\n",
       "      <td>3.625000</td>\n",
       "      <td>4.343750</td>\n",
       "    </tr>\n",
       "    <tr>\n",
       "      <th>50%</th>\n",
       "      <td>5.750000</td>\n",
       "      <td>4.461538</td>\n",
       "    </tr>\n",
       "    <tr>\n",
       "      <th>75%</th>\n",
       "      <td>12.000000</td>\n",
       "      <td>4.461538</td>\n",
       "    </tr>\n",
       "    <tr>\n",
       "      <th>max</th>\n",
       "      <td>24.000000</td>\n",
       "      <td>4.782609</td>\n",
       "    </tr>\n",
       "  </tbody>\n",
       "</table>\n",
       "</div>"
      ],
      "text/plain": [
       "       Neighbors Avg  Non Neighbors Avg\n",
       "count      22.000000          42.000000\n",
       "mean        7.915909           4.290457\n",
       "std         6.231344           0.418795\n",
       "min         0.000000           3.090909\n",
       "25%         3.625000           4.343750\n",
       "50%         5.750000           4.461538\n",
       "75%        12.000000           4.461538\n",
       "max        24.000000           4.782609"
      ]
     },
     "execution_count": 8,
     "metadata": {},
     "output_type": "execute_result"
    }
   ],
   "source": [
    "# Some basic stats on our data\n",
    "compare_df.describe()"
   ]
  },
  {
   "cell_type": "code",
   "execution_count": 9,
   "metadata": {
    "collapsed": false
   },
   "outputs": [
    {
     "data": {
      "text/plain": [
       "Austria        1.794326\n",
       "Belarus        0.318584\n",
       "Belgium        1.052288\n",
       "Croatia        4.376471\n",
       "Cyprus         6.521739\n",
       "France         0.888889\n",
       "Germany        0.982979\n",
       "Greece         5.400000\n",
       "Netherlands    1.384615\n",
       "Norway         2.350515\n",
       "Poland         0.418182\n",
       "Portugal       1.126126\n",
       "Romania        3.882353\n",
       "Spain          3.640449\n",
       "Sweden         1.257143\n",
       "Ukraine        3.882353\n",
       "Bulgaria       2.808511\n",
       "Hungary        0.576190\n",
       "Moldova        3.130435\n",
       "Armenia        0.000000\n",
       "Azerbaijan     0.000000\n",
       "Italy          0.770642\n",
       "dtype: float64"
      ]
     },
     "execution_count": 9,
     "metadata": {},
     "output_type": "execute_result"
    }
   ],
   "source": [
    "# Creating a neighbor multiple.  This shows how much more a country voted for it's neighbors opposed to others\n",
    "# Also, saved it to csv for use in tableau viz\n",
    "neighbor_mult = (compare_df['Neighbors Avg']/compare_df['Non Neighbors Avg'])\n",
    "neighbor_mult.to_csv('neighbor_mult.csv')\n",
    "\n",
    "neighbor_mult.dropna()"
   ]
  },
  {
   "cell_type": "markdown",
   "metadata": {},
   "source": [
    "### Viz of the data"
   ]
  },
  {
   "cell_type": "code",
   "execution_count": 10,
   "metadata": {
    "collapsed": false
   },
   "outputs": [
    {
     "data": {
      "text/plain": [
       "<matplotlib.text.Text at 0xb76ac18>"
      ]
     },
     "execution_count": 10,
     "metadata": {},
     "output_type": "execute_result"
    },
    {
     "data": {
      "image/png": "[encoded data removed]",
      "text/plain": [
       "<matplotlib.figure.Figure at 0xb5340b8>"
      ]
     },
     "metadata": {},
     "output_type": "display_data"
    },
    {
     "data": {
      "image/png": "[encoded data removed]",
      "text/plain": [
       "<matplotlib.figure.Figure at 0xb534a90>"
      ]
     },
     "metadata": {},
     "output_type": "display_data"
    }
   ],
   "source": [
    "plt.figure()\n",
    "\n",
    "h = compare_df['Neighbors Avg']\n",
    "h = h.sort_values()\n",
    "fit = stats.norm.pdf(h, np.mean(h), np.std(h))  #this is a fitting indeed\n",
    "plt.plot(h,fit, color='blue')\n",
    "\n",
    "h = compare_df['Non Neighbors Avg']\n",
    "h = h.sort_values()\n",
    "fit = stats.norm.pdf(h, np.mean(h), np.std(h))  #this is a fitting indeed\n",
    "\n",
    "plt.plot(h,fit, color='red')\n",
    "plt.title('Neighbors comparision')\n",
    "plt.xlabel(\"% Time Difference\")\n",
    "\n",
    "plt.figure()\n",
    "compare_df['Neighbors Avg'].hist()\n",
    "compare_df['Non Neighbors Avg'].hist()\n",
    "plt.title('Histograms')"
   ]
  },
  {
   "cell_type": "markdown",
   "metadata": {},
   "source": [
    "### T-Test Time"
   ]
  },
  {
   "cell_type": "code",
   "execution_count": 11,
   "metadata": {
    "collapsed": false
   },
   "outputs": [
    {
     "name": "stdout",
     "output_type": "stream",
     "text": [
      "pval: 0.01 tstat: 2.65\n"
     ]
    }
   ],
   "source": [
    "# Method now is using Student T-Test to determine if there is a significant difference between the countries voting \n",
    "# for their neighbors and the conutries when they voted for other non-neighbors\n",
    "\n",
    "# Null hypothesis: That there is no difference between these sets\n",
    "\n",
    "a = compare_df['Neighbors Avg']\n",
    "b = compare_df['Non Neighbors Avg']\n",
    "\n",
    "stat, pval = stats.ttest_rel(a,b,nan_policy='omit')\n",
    "print 'pval: %0.2f tstat: %2.2f' % (pval, stat)"
   ]
  },
  {
   "cell_type": "markdown",
   "metadata": {},
   "source": [
    "A p values of less than 0.05 here indicates that we can reject the null hypothesis that says they are the same and conclude that they are in fact statistically and significantly diffent.  Which leads us back to the original question, is there political bias?  And the answer would be yes"
   ]
  },
  {
   "cell_type": "markdown",
   "metadata": {},
   "source": [
    "### Conclusion/ Areas to Improve"
   ]
  },
  {
   "cell_type": "markdown",
   "metadata": {
    "collapsed": true
   },
   "source": [
    "*Conclusion:* From this analysis we can conclude that **there is a bias** when it comes to Eurovision countries and their voting patterns\n",
    "\n",
    "*Areas to improve:* There are some definite areas to improve this analysis given some more time  \n",
    "- More data.  This would confirm the trend (over multiple years) as well as analyze the countries that weren't accounted for in this data set\n",
    "- Better test metric.  Right now it's simply neighbors but there are some relationships that are not represented with this.  For example, Armenia and Azerbaijan extremely dislike each other and is skewing this analysis because they are neighbors"
   ]
  }
 ],
 "metadata": {
  "kernelspec": {
   "display_name": "Python 2",
   "language": "python",
   "name": "python2"
  },
  "language_info": {
   "codemirror_mode": {
    "name": "ipython",
    "version": 2
   },
   "file_extension": ".py",
   "mimetype": "text/x-python",
   "name": "python",
   "nbconvert_exporter": "python",
   "pygments_lexer": "ipython2",
   "version": "2.7.12"
  }
 },
 "nbformat": 4,
 "nbformat_minor": 0
}
